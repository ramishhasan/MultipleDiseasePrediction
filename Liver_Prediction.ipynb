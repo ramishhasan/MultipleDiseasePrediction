{
  "nbformat": 4,
  "nbformat_minor": 0,
  "metadata": {
    "colab": {
      "provenance": [],
      "authorship_tag": "ABX9TyOC+Z2pS7mXzi4qsirMcLuV"
    },
    "kernelspec": {
      "name": "python3",
      "display_name": "Python 3"
    },
    "language_info": {
      "name": "python"
    }
  },
  "cells": [
    {
      "cell_type": "markdown",
      "source": [
        "# IMPORTING REQUIRED LIBRARIES"
      ],
      "metadata": {
        "id": "oPGCyGi97l6T"
      }
    },
    {
      "cell_type": "code",
      "source": [
        "import pandas as pd\n",
        "import numpy as np\n",
        "import matplotlib.pyplot as plt\n",
        "import seaborn as sns"
      ],
      "metadata": {
        "id": "HG2ZJTC45fQR"
      },
      "execution_count": 54,
      "outputs": []
    },
    {
      "cell_type": "markdown",
      "source": [
        "# READING THE DATA"
      ],
      "metadata": {
        "id": "cDxrQMmL71Bi"
      }
    },
    {
      "cell_type": "code",
      "source": [
        "df = pd.read_csv(\"liver_data.csv\")\n",
        "df.head()"
      ],
      "metadata": {
        "id": "2MmCgIBk5fN-",
        "colab": {
          "base_uri": "https://localhost:8080/",
          "height": 270
        },
        "outputId": "a3e20593-08bf-4365-9d5a-d60c1eddb1de"
      },
      "execution_count": 55,
      "outputs": [
        {
          "output_type": "execute_result",
          "data": {
            "text/plain": [
              "   Age  Gender  Total_Bilirubin  Direct_Bilirubin  Alkaline_Phosphotase  \\\n",
              "0   65  Female              0.7               0.1                   187   \n",
              "1   62    Male             10.9               5.5                   699   \n",
              "2   62    Male              7.3               4.1                   490   \n",
              "3   58    Male              1.0               0.4                   182   \n",
              "4   72    Male              3.9               2.0                   195   \n",
              "\n",
              "   Alamine_Aminotransferase  Aspartate_Aminotransferase  Total_Protiens  \\\n",
              "0                        16                          18             6.8   \n",
              "1                        64                         100             7.5   \n",
              "2                        60                          68             7.0   \n",
              "3                        14                          20             6.8   \n",
              "4                        27                          59             7.3   \n",
              "\n",
              "   Albumin  Albumin_and_Globulin_Ratio  Liver_Problem  \n",
              "0      3.3                        0.90              1  \n",
              "1      3.2                        0.74              1  \n",
              "2      3.3                        0.89              1  \n",
              "3      3.4                        1.00              1  \n",
              "4      2.4                        0.40              1  "
            ],
            "text/html": [
              "\n",
              "  <div id=\"df-a2c8f959-2e3d-4735-a1e3-9fadddc3f54e\">\n",
              "    <div class=\"colab-df-container\">\n",
              "      <div>\n",
              "<style scoped>\n",
              "    .dataframe tbody tr th:only-of-type {\n",
              "        vertical-align: middle;\n",
              "    }\n",
              "\n",
              "    .dataframe tbody tr th {\n",
              "        vertical-align: top;\n",
              "    }\n",
              "\n",
              "    .dataframe thead th {\n",
              "        text-align: right;\n",
              "    }\n",
              "</style>\n",
              "<table border=\"1\" class=\"dataframe\">\n",
              "  <thead>\n",
              "    <tr style=\"text-align: right;\">\n",
              "      <th></th>\n",
              "      <th>Age</th>\n",
              "      <th>Gender</th>\n",
              "      <th>Total_Bilirubin</th>\n",
              "      <th>Direct_Bilirubin</th>\n",
              "      <th>Alkaline_Phosphotase</th>\n",
              "      <th>Alamine_Aminotransferase</th>\n",
              "      <th>Aspartate_Aminotransferase</th>\n",
              "      <th>Total_Protiens</th>\n",
              "      <th>Albumin</th>\n",
              "      <th>Albumin_and_Globulin_Ratio</th>\n",
              "      <th>Liver_Problem</th>\n",
              "    </tr>\n",
              "  </thead>\n",
              "  <tbody>\n",
              "    <tr>\n",
              "      <th>0</th>\n",
              "      <td>65</td>\n",
              "      <td>Female</td>\n",
              "      <td>0.7</td>\n",
              "      <td>0.1</td>\n",
              "      <td>187</td>\n",
              "      <td>16</td>\n",
              "      <td>18</td>\n",
              "      <td>6.8</td>\n",
              "      <td>3.3</td>\n",
              "      <td>0.90</td>\n",
              "      <td>1</td>\n",
              "    </tr>\n",
              "    <tr>\n",
              "      <th>1</th>\n",
              "      <td>62</td>\n",
              "      <td>Male</td>\n",
              "      <td>10.9</td>\n",
              "      <td>5.5</td>\n",
              "      <td>699</td>\n",
              "      <td>64</td>\n",
              "      <td>100</td>\n",
              "      <td>7.5</td>\n",
              "      <td>3.2</td>\n",
              "      <td>0.74</td>\n",
              "      <td>1</td>\n",
              "    </tr>\n",
              "    <tr>\n",
              "      <th>2</th>\n",
              "      <td>62</td>\n",
              "      <td>Male</td>\n",
              "      <td>7.3</td>\n",
              "      <td>4.1</td>\n",
              "      <td>490</td>\n",
              "      <td>60</td>\n",
              "      <td>68</td>\n",
              "      <td>7.0</td>\n",
              "      <td>3.3</td>\n",
              "      <td>0.89</td>\n",
              "      <td>1</td>\n",
              "    </tr>\n",
              "    <tr>\n",
              "      <th>3</th>\n",
              "      <td>58</td>\n",
              "      <td>Male</td>\n",
              "      <td>1.0</td>\n",
              "      <td>0.4</td>\n",
              "      <td>182</td>\n",
              "      <td>14</td>\n",
              "      <td>20</td>\n",
              "      <td>6.8</td>\n",
              "      <td>3.4</td>\n",
              "      <td>1.00</td>\n",
              "      <td>1</td>\n",
              "    </tr>\n",
              "    <tr>\n",
              "      <th>4</th>\n",
              "      <td>72</td>\n",
              "      <td>Male</td>\n",
              "      <td>3.9</td>\n",
              "      <td>2.0</td>\n",
              "      <td>195</td>\n",
              "      <td>27</td>\n",
              "      <td>59</td>\n",
              "      <td>7.3</td>\n",
              "      <td>2.4</td>\n",
              "      <td>0.40</td>\n",
              "      <td>1</td>\n",
              "    </tr>\n",
              "  </tbody>\n",
              "</table>\n",
              "</div>\n",
              "      <button class=\"colab-df-convert\" onclick=\"convertToInteractive('df-a2c8f959-2e3d-4735-a1e3-9fadddc3f54e')\"\n",
              "              title=\"Convert this dataframe to an interactive table.\"\n",
              "              style=\"display:none;\">\n",
              "        \n",
              "  <svg xmlns=\"http://www.w3.org/2000/svg\" height=\"24px\"viewBox=\"0 0 24 24\"\n",
              "       width=\"24px\">\n",
              "    <path d=\"M0 0h24v24H0V0z\" fill=\"none\"/>\n",
              "    <path d=\"M18.56 5.44l.94 2.06.94-2.06 2.06-.94-2.06-.94-.94-2.06-.94 2.06-2.06.94zm-11 1L8.5 8.5l.94-2.06 2.06-.94-2.06-.94L8.5 2.5l-.94 2.06-2.06.94zm10 10l.94 2.06.94-2.06 2.06-.94-2.06-.94-.94-2.06-.94 2.06-2.06.94z\"/><path d=\"M17.41 7.96l-1.37-1.37c-.4-.4-.92-.59-1.43-.59-.52 0-1.04.2-1.43.59L10.3 9.45l-7.72 7.72c-.78.78-.78 2.05 0 2.83L4 21.41c.39.39.9.59 1.41.59.51 0 1.02-.2 1.41-.59l7.78-7.78 2.81-2.81c.8-.78.8-2.07 0-2.86zM5.41 20L4 18.59l7.72-7.72 1.47 1.35L5.41 20z\"/>\n",
              "  </svg>\n",
              "      </button>\n",
              "      \n",
              "  <style>\n",
              "    .colab-df-container {\n",
              "      display:flex;\n",
              "      flex-wrap:wrap;\n",
              "      gap: 12px;\n",
              "    }\n",
              "\n",
              "    .colab-df-convert {\n",
              "      background-color: #E8F0FE;\n",
              "      border: none;\n",
              "      border-radius: 50%;\n",
              "      cursor: pointer;\n",
              "      display: none;\n",
              "      fill: #1967D2;\n",
              "      height: 32px;\n",
              "      padding: 0 0 0 0;\n",
              "      width: 32px;\n",
              "    }\n",
              "\n",
              "    .colab-df-convert:hover {\n",
              "      background-color: #E2EBFA;\n",
              "      box-shadow: 0px 1px 2px rgba(60, 64, 67, 0.3), 0px 1px 3px 1px rgba(60, 64, 67, 0.15);\n",
              "      fill: #174EA6;\n",
              "    }\n",
              "\n",
              "    [theme=dark] .colab-df-convert {\n",
              "      background-color: #3B4455;\n",
              "      fill: #D2E3FC;\n",
              "    }\n",
              "\n",
              "    [theme=dark] .colab-df-convert:hover {\n",
              "      background-color: #434B5C;\n",
              "      box-shadow: 0px 1px 3px 1px rgba(0, 0, 0, 0.15);\n",
              "      filter: drop-shadow(0px 1px 2px rgba(0, 0, 0, 0.3));\n",
              "      fill: #FFFFFF;\n",
              "    }\n",
              "  </style>\n",
              "\n",
              "      <script>\n",
              "        const buttonEl =\n",
              "          document.querySelector('#df-a2c8f959-2e3d-4735-a1e3-9fadddc3f54e button.colab-df-convert');\n",
              "        buttonEl.style.display =\n",
              "          google.colab.kernel.accessAllowed ? 'block' : 'none';\n",
              "\n",
              "        async function convertToInteractive(key) {\n",
              "          const element = document.querySelector('#df-a2c8f959-2e3d-4735-a1e3-9fadddc3f54e');\n",
              "          const dataTable =\n",
              "            await google.colab.kernel.invokeFunction('convertToInteractive',\n",
              "                                                     [key], {});\n",
              "          if (!dataTable) return;\n",
              "\n",
              "          const docLinkHtml = 'Like what you see? Visit the ' +\n",
              "            '<a target=\"_blank\" href=https://colab.research.google.com/notebooks/data_table.ipynb>data table notebook</a>'\n",
              "            + ' to learn more about interactive tables.';\n",
              "          element.innerHTML = '';\n",
              "          dataTable['output_type'] = 'display_data';\n",
              "          await google.colab.output.renderOutput(dataTable, element);\n",
              "          const docLink = document.createElement('div');\n",
              "          docLink.innerHTML = docLinkHtml;\n",
              "          element.appendChild(docLink);\n",
              "        }\n",
              "      </script>\n",
              "    </div>\n",
              "  </div>\n",
              "  "
            ]
          },
          "metadata": {},
          "execution_count": 55
        }
      ]
    },
    {
      "cell_type": "markdown",
      "source": [
        "# CHECKING THE SIZE OF THE DATA"
      ],
      "metadata": {
        "id": "7pxvh1AlNS6S"
      }
    },
    {
      "cell_type": "code",
      "source": [
        "df.shape"
      ],
      "metadata": {
        "colab": {
          "base_uri": "https://localhost:8080/"
        },
        "id": "4K_CfEgD5fLa",
        "outputId": "8d2e4820-e3cd-46f5-dc03-9ffec5551df6"
      },
      "execution_count": 56,
      "outputs": [
        {
          "output_type": "execute_result",
          "data": {
            "text/plain": [
              "(500, 11)"
            ]
          },
          "metadata": {},
          "execution_count": 56
        }
      ]
    },
    {
      "cell_type": "markdown",
      "source": [
        "# CHECKING THE DATA TYPE OF EACH COLUMN"
      ],
      "metadata": {
        "id": "if38aSTwNWmk"
      }
    },
    {
      "cell_type": "code",
      "source": [
        "df.info()"
      ],
      "metadata": {
        "colab": {
          "base_uri": "https://localhost:8080/"
        },
        "id": "nztJCj2MNX5d",
        "outputId": "24030031-4a11-4c7b-a938-2c5909c13e63"
      },
      "execution_count": 57,
      "outputs": [
        {
          "output_type": "stream",
          "name": "stdout",
          "text": [
            "<class 'pandas.core.frame.DataFrame'>\n",
            "RangeIndex: 500 entries, 0 to 499\n",
            "Data columns (total 11 columns):\n",
            " #   Column                      Non-Null Count  Dtype  \n",
            "---  ------                      --------------  -----  \n",
            " 0   Age                         500 non-null    int64  \n",
            " 1   Gender                      500 non-null    object \n",
            " 2   Total_Bilirubin             500 non-null    float64\n",
            " 3   Direct_Bilirubin            500 non-null    float64\n",
            " 4   Alkaline_Phosphotase        500 non-null    int64  \n",
            " 5   Alamine_Aminotransferase    500 non-null    int64  \n",
            " 6   Aspartate_Aminotransferase  500 non-null    int64  \n",
            " 7   Total_Protiens              500 non-null    float64\n",
            " 8   Albumin                     500 non-null    float64\n",
            " 9   Albumin_and_Globulin_Ratio  496 non-null    float64\n",
            " 10  Liver_Problem               500 non-null    int64  \n",
            "dtypes: float64(5), int64(5), object(1)\n",
            "memory usage: 43.1+ KB\n"
          ]
        }
      ]
    },
    {
      "cell_type": "markdown",
      "source": [
        "# CHECKING THE NULL VALUES"
      ],
      "metadata": {
        "id": "XGGMDtgrNfct"
      }
    },
    {
      "cell_type": "code",
      "source": [
        "df.isnull().sum()"
      ],
      "metadata": {
        "colab": {
          "base_uri": "https://localhost:8080/"
        },
        "id": "4BwCj6zc5fIy",
        "outputId": "838ce93b-27a8-4bd5-9d08-3005113c5a04"
      },
      "execution_count": 58,
      "outputs": [
        {
          "output_type": "execute_result",
          "data": {
            "text/plain": [
              "Age                           0\n",
              "Gender                        0\n",
              "Total_Bilirubin               0\n",
              "Direct_Bilirubin              0\n",
              "Alkaline_Phosphotase          0\n",
              "Alamine_Aminotransferase      0\n",
              "Aspartate_Aminotransferase    0\n",
              "Total_Protiens                0\n",
              "Albumin                       0\n",
              "Albumin_and_Globulin_Ratio    4\n",
              "Liver_Problem                 0\n",
              "dtype: int64"
            ]
          },
          "metadata": {},
          "execution_count": 58
        }
      ]
    },
    {
      "cell_type": "markdown",
      "source": [
        "# FILLING NULL VALUES WITH MEAN VALUE"
      ],
      "metadata": {
        "id": "prSicVadQ4tC"
      }
    },
    {
      "cell_type": "code",
      "source": [
        "df['Albumin_and_Globulin_Ratio'].fillna(df['Albumin_and_Globulin_Ratio'].mean(),inplace=True)"
      ],
      "metadata": {
        "id": "JH059CMDNllh"
      },
      "execution_count": 59,
      "outputs": []
    },
    {
      "cell_type": "code",
      "source": [
        "df.isnull().sum()"
      ],
      "metadata": {
        "colab": {
          "base_uri": "https://localhost:8080/"
        },
        "id": "Welab6YeQ9Kg",
        "outputId": "0d963738-34ee-41cb-e4f5-ba376611d01a"
      },
      "execution_count": 60,
      "outputs": [
        {
          "output_type": "execute_result",
          "data": {
            "text/plain": [
              "Age                           0\n",
              "Gender                        0\n",
              "Total_Bilirubin               0\n",
              "Direct_Bilirubin              0\n",
              "Alkaline_Phosphotase          0\n",
              "Alamine_Aminotransferase      0\n",
              "Aspartate_Aminotransferase    0\n",
              "Total_Protiens                0\n",
              "Albumin                       0\n",
              "Albumin_and_Globulin_Ratio    0\n",
              "Liver_Problem                 0\n",
              "dtype: int64"
            ]
          },
          "metadata": {},
          "execution_count": 60
        }
      ]
    },
    {
      "cell_type": "markdown",
      "source": [
        "# CHANGING CATEGORICAL VALUES INTO NUMERICAL VALUES\n",
        "\n"
      ],
      "metadata": {
        "id": "hWXeurlV76iV"
      }
    },
    {
      "cell_type": "code",
      "source": [
        "df.info()"
      ],
      "metadata": {
        "colab": {
          "base_uri": "https://localhost:8080/"
        },
        "id": "zYX81pYB5fGE",
        "outputId": "84ddbeee-1271-4fb8-d23c-cc492751ff13"
      },
      "execution_count": 61,
      "outputs": [
        {
          "output_type": "stream",
          "name": "stdout",
          "text": [
            "<class 'pandas.core.frame.DataFrame'>\n",
            "RangeIndex: 500 entries, 0 to 499\n",
            "Data columns (total 11 columns):\n",
            " #   Column                      Non-Null Count  Dtype  \n",
            "---  ------                      --------------  -----  \n",
            " 0   Age                         500 non-null    int64  \n",
            " 1   Gender                      500 non-null    object \n",
            " 2   Total_Bilirubin             500 non-null    float64\n",
            " 3   Direct_Bilirubin            500 non-null    float64\n",
            " 4   Alkaline_Phosphotase        500 non-null    int64  \n",
            " 5   Alamine_Aminotransferase    500 non-null    int64  \n",
            " 6   Aspartate_Aminotransferase  500 non-null    int64  \n",
            " 7   Total_Protiens              500 non-null    float64\n",
            " 8   Albumin                     500 non-null    float64\n",
            " 9   Albumin_and_Globulin_Ratio  500 non-null    float64\n",
            " 10  Liver_Problem               500 non-null    int64  \n",
            "dtypes: float64(5), int64(5), object(1)\n",
            "memory usage: 43.1+ KB\n"
          ]
        }
      ]
    },
    {
      "cell_type": "code",
      "source": [
        "df['Gender'] = df['Gender'].replace({'Male':0,'Female':1})"
      ],
      "metadata": {
        "id": "8tLaa-smRNF3"
      },
      "execution_count": 62,
      "outputs": []
    },
    {
      "cell_type": "code",
      "source": [
        "df.info()"
      ],
      "metadata": {
        "colab": {
          "base_uri": "https://localhost:8080/"
        },
        "id": "ozm8Cwp-RfVz",
        "outputId": "2a8c9da1-007a-4a90-cda3-1241c93ca1a3"
      },
      "execution_count": 64,
      "outputs": [
        {
          "output_type": "stream",
          "name": "stdout",
          "text": [
            "<class 'pandas.core.frame.DataFrame'>\n",
            "RangeIndex: 500 entries, 0 to 499\n",
            "Data columns (total 11 columns):\n",
            " #   Column                      Non-Null Count  Dtype  \n",
            "---  ------                      --------------  -----  \n",
            " 0   Age                         500 non-null    int64  \n",
            " 1   Gender                      500 non-null    int64  \n",
            " 2   Total_Bilirubin             500 non-null    float64\n",
            " 3   Direct_Bilirubin            500 non-null    float64\n",
            " 4   Alkaline_Phosphotase        500 non-null    int64  \n",
            " 5   Alamine_Aminotransferase    500 non-null    int64  \n",
            " 6   Aspartate_Aminotransferase  500 non-null    int64  \n",
            " 7   Total_Protiens              500 non-null    float64\n",
            " 8   Albumin                     500 non-null    float64\n",
            " 9   Albumin_and_Globulin_Ratio  500 non-null    float64\n",
            " 10  Liver_Problem               500 non-null    int64  \n",
            "dtypes: float64(5), int64(6)\n",
            "memory usage: 43.1 KB\n"
          ]
        }
      ]
    },
    {
      "cell_type": "markdown",
      "source": [
        "# PRINTING THE COLUMN NAMES"
      ],
      "metadata": {
        "id": "tXp5jxQJ8Ae1"
      }
    },
    {
      "cell_type": "code",
      "source": [
        "df.columns"
      ],
      "metadata": {
        "colab": {
          "base_uri": "https://localhost:8080/"
        },
        "id": "ptT-eMhS5fAx",
        "outputId": "166c7b0e-7df3-48ef-9f49-bd3451964737"
      },
      "execution_count": 65,
      "outputs": [
        {
          "output_type": "execute_result",
          "data": {
            "text/plain": [
              "Index(['Age', 'Gender', 'Total_Bilirubin', 'Direct_Bilirubin',\n",
              "       'Alkaline_Phosphotase', 'Alamine_Aminotransferase',\n",
              "       'Aspartate_Aminotransferase', 'Total_Protiens', 'Albumin',\n",
              "       'Albumin_and_Globulin_Ratio', 'Liver_Problem'],\n",
              "      dtype='object')"
            ]
          },
          "metadata": {},
          "execution_count": 65
        }
      ]
    },
    {
      "cell_type": "markdown",
      "source": [
        "# CORRELATIONS"
      ],
      "metadata": {
        "id": "LrQnXbjdRo0j"
      }
    },
    {
      "cell_type": "code",
      "source": [
        "for i in df.columns:\n",
        "    print(i,\"-------->\",df[i].corr(df['Liver_Problem']))"
      ],
      "metadata": {
        "colab": {
          "base_uri": "https://localhost:8080/"
        },
        "id": "Ifkind7URrL7",
        "outputId": "bee6d78c-0fcc-44e4-f69d-a1ec112bd7df"
      },
      "execution_count": 66,
      "outputs": [
        {
          "output_type": "stream",
          "name": "stdout",
          "text": [
            "Age --------> -0.15058841617661606\n",
            "Gender --------> 0.04600147207065952\n",
            "Total_Bilirubin --------> -0.1831623759368882\n",
            "Direct_Bilirubin --------> -0.22360384999927307\n",
            "Alkaline_Phosphotase --------> -0.1922323146431627\n",
            "Alamine_Aminotransferase --------> -0.16341478784074903\n",
            "Aspartate_Aminotransferase --------> -0.1432847896744353\n",
            "Total_Protiens --------> 0.02920455149125384\n",
            "Albumin --------> 0.14028160102182924\n",
            "Albumin_and_Globulin_Ratio --------> 0.17879513082928367\n",
            "Liver_Problem --------> 1.0\n"
          ]
        }
      ]
    },
    {
      "cell_type": "markdown",
      "source": [
        "# IMPORTING REQUIRED MODELS AND METRICS"
      ],
      "metadata": {
        "id": "yiUT86Vt8DrN"
      }
    },
    {
      "cell_type": "code",
      "source": [
        "from sklearn.pipeline import make_pipeline\n",
        "from sklearn.preprocessing import StandardScaler\n",
        "\n",
        "# Train Test Split\n",
        "from sklearn.model_selection import train_test_split\n",
        "\n",
        "# Metrics\n",
        "from sklearn.metrics import confusion_matrix, accuracy_score\n",
        "\n",
        "# Models\n",
        "from sklearn.neighbors import KNeighborsClassifier\n",
        "from sklearn.linear_model import LogisticRegression\n",
        "from sklearn.svm import SVC\n",
        "from sklearn.tree import DecisionTreeClassifier\n",
        "from sklearn.ensemble import RandomForestClassifier"
      ],
      "metadata": {
        "id": "4O5pctuW579B"
      },
      "execution_count": 67,
      "outputs": []
    },
    {
      "cell_type": "markdown",
      "source": [
        "# DIVIDING THE DEPENDENT AND INDEPENDENT VARIABLES"
      ],
      "metadata": {
        "id": "QHLfW1WgR28i"
      }
    },
    {
      "cell_type": "code",
      "source": [
        "y = df['Liver_Problem']\n",
        "X = df.drop(['Liver_Problem'],axis = 1)"
      ],
      "metadata": {
        "id": "QNRpImYt59Z3"
      },
      "execution_count": 68,
      "outputs": []
    },
    {
      "cell_type": "markdown",
      "source": [
        "# DIVIDING THE DATA INTO TRAIN AND TEST"
      ],
      "metadata": {
        "id": "9mBUNXdGSLFj"
      }
    },
    {
      "cell_type": "code",
      "source": [
        "x_train, x_test, y_train, y_test = train_test_split(X,y,test_size=0.2, random_state=42)"
      ],
      "metadata": {
        "id": "ntdvWZjB6dUZ"
      },
      "execution_count": 69,
      "outputs": []
    },
    {
      "cell_type": "code",
      "source": [
        "lst = [x_train,x_test,y_train,y_test]\n",
        "for data in lst:\n",
        "  print(\"shape\",\"---->\",data.shape)"
      ],
      "metadata": {
        "colab": {
          "base_uri": "https://localhost:8080/"
        },
        "id": "g9HpcP6QT9ii",
        "outputId": "6f1f5436-fa8a-4b84-9a8b-fc65c9a1638d"
      },
      "execution_count": 77,
      "outputs": [
        {
          "output_type": "stream",
          "name": "stdout",
          "text": [
            "shape ----> (400, 10)\n",
            "shape ----> (100, 10)\n",
            "shape ----> (400,)\n",
            "shape ----> (100,)\n"
          ]
        }
      ]
    },
    {
      "cell_type": "markdown",
      "source": [
        "# MAKING PIPELINE FOR EVERY MODEL"
      ],
      "metadata": {
        "id": "aiSfrigjSPr6"
      }
    },
    {
      "cell_type": "code",
      "source": [
        "mdl_1 = make_pipeline(StandardScaler(), KNeighborsClassifier()) \n",
        "mdl_2 = make_pipeline(StandardScaler(), LogisticRegression()) \n",
        "mdl_3 = make_pipeline(StandardScaler(), SVC()) \n",
        "mdl_4 = make_pipeline(StandardScaler(), DecisionTreeClassifier()) \n",
        "mdl_5 = make_pipeline(StandardScaler(), RandomForestClassifier())"
      ],
      "metadata": {
        "id": "FcV0_qSJSNVx"
      },
      "execution_count": 70,
      "outputs": []
    },
    {
      "cell_type": "markdown",
      "source": [
        "# FITTING AND PREDICTING ACCURACY OF MODELS"
      ],
      "metadata": {
        "id": "uQhztdfXSVCh"
      }
    },
    {
      "cell_type": "code",
      "source": [
        "mdl_lst = [mdl_1,mdl_2,mdl_3,mdl_4,mdl_5]\n",
        "accuracy_lst = []\n",
        "for mdl in mdl_lst:\n",
        "  i = 1\n",
        "  mdl.fit(x_train,y_train)\n",
        "  y_pred = mdl.predict(x_test)\n",
        "  print(\"\")\n",
        "  print(\"******CLASSIFICATION MODEL******\")\n",
        "  i = i+1\n",
        "  print(\"\")\n",
        "  print(\"CONFUSION MATRIX\")\n",
        "  print(confusion_matrix(y_test,y_pred))\n",
        "  print(\"\")\n",
        "  print(\"ACCURACY SCORE\")\n",
        "  print(accuracy_score(y_test,y_pred))\n",
        "  print(\"----------------------------\")\n",
        "  accuracy_lst.append(accuracy_score(y_test,y_pred)) \n",
        " "
      ],
      "metadata": {
        "colab": {
          "base_uri": "https://localhost:8080/"
        },
        "id": "WRnN9DITSR9O",
        "outputId": "19a329df-960b-4874-9e29-0f01ab6121fa"
      },
      "execution_count": 71,
      "outputs": [
        {
          "output_type": "stream",
          "name": "stdout",
          "text": [
            "\n",
            "******CLASSIFICATION MODEL******\n",
            "\n",
            "CONFUSION MATRIX\n",
            "[[56 10]\n",
            " [25  9]]\n",
            "\n",
            "ACCURACY SCORE\n",
            "0.65\n",
            "----------------------------\n",
            "\n",
            "******CLASSIFICATION MODEL******\n",
            "\n",
            "CONFUSION MATRIX\n",
            "[[60  6]\n",
            " [28  6]]\n",
            "\n",
            "ACCURACY SCORE\n",
            "0.66\n",
            "----------------------------\n",
            "\n",
            "******CLASSIFICATION MODEL******\n",
            "\n",
            "CONFUSION MATRIX\n",
            "[[66  0]\n",
            " [34  0]]\n",
            "\n",
            "ACCURACY SCORE\n",
            "0.66\n",
            "----------------------------\n",
            "\n",
            "******CLASSIFICATION MODEL******\n",
            "\n",
            "CONFUSION MATRIX\n",
            "[[45 21]\n",
            " [24 10]]\n",
            "\n",
            "ACCURACY SCORE\n",
            "0.55\n",
            "----------------------------\n",
            "\n",
            "******CLASSIFICATION MODEL******\n",
            "\n",
            "CONFUSION MATRIX\n",
            "[[60  6]\n",
            " [28  6]]\n",
            "\n",
            "ACCURACY SCORE\n",
            "0.66\n",
            "----------------------------\n"
          ]
        }
      ]
    },
    {
      "cell_type": "markdown",
      "source": [
        "# CHECKING FOR HIGH ACCURACY SCORE AMOUNG THE MODELS"
      ],
      "metadata": {
        "id": "zV4r3sY5Sacb"
      }
    },
    {
      "cell_type": "code",
      "source": [
        "print(accuracy_lst.index(max(accuracy_lst)))\n"
      ],
      "metadata": {
        "colab": {
          "base_uri": "https://localhost:8080/"
        },
        "id": "nc-_9sB8SXj8",
        "outputId": "e23d2fb2-d960-4e8d-f16c-f021f277b8a1"
      },
      "execution_count": 72,
      "outputs": [
        {
          "output_type": "stream",
          "name": "stdout",
          "text": [
            "1\n"
          ]
        }
      ]
    },
    {
      "cell_type": "markdown",
      "source": [
        "# SAVING THE MODEL IN PICKLE FILE"
      ],
      "metadata": {
        "id": "KsmkQE36UFOG"
      }
    },
    {
      "cell_type": "code",
      "source": [
        "import pickle"
      ],
      "metadata": {
        "id": "QoruLLLbTy0a"
      },
      "execution_count": 78,
      "outputs": []
    },
    {
      "cell_type": "code",
      "source": [
        "filename = 'liver_model.pkl'\n",
        "pickle.dump(mdl_2, open(filename, 'wb'))"
      ],
      "metadata": {
        "id": "ObRi0DoRUGq2"
      },
      "execution_count": 79,
      "outputs": []
    },
    {
      "cell_type": "code",
      "source": [],
      "metadata": {
        "id": "_RpGEgQGUKV4"
      },
      "execution_count": null,
      "outputs": []
    }
  ]
}